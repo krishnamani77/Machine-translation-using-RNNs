{
 "cells": [
  {
   "cell_type": "markdown",
   "metadata": {
    "collapsed": true
   },
   "source": [
    "# Artificial Intelligence Nanodegree\n",
    "## Machine Translation Project\n",
    "In this notebook, sections that end with **'(IMPLEMENTATION)'** in the header indicate that the following blocks of code will require additional functionality which you must provide. Please be sure to read the instructions carefully!\n",
    "\n",
    "## Introduction\n",
    "In this notebook, you will build a deep neural network that functions as part of an end-to-end machine translation pipeline. Your completed pipeline will accept English text as input and return the French translation.\n",
    "\n",
    "- **Preprocess** - You'll convert text to sequence of integers.\n",
    "- **Models** Create models which accepts a sequence of integers as input and returns a probability distribution over possible translations. After learning about the basic types of neural networks that are often used for machine translation, you will engage in your own investigations, to design your own model!\n",
    "- **Prediction** Run the model on English text."
   ]
  },
  {
   "cell_type": "code",
   "execution_count": 1,
   "metadata": {},
   "outputs": [],
   "source": [
    "%load_ext autoreload\n",
    "%aimport helper, tests\n",
    "%autoreload 1"
   ]
  },
  {
   "cell_type": "code",
   "execution_count": 2,
   "metadata": {},
   "outputs": [
    {
     "name": "stderr",
     "output_type": "stream",
     "text": [
      "Using TensorFlow backend.\n"
     ]
    }
   ],
   "source": [
    "import collections\n",
    "\n",
    "import helper\n",
    "import numpy as np\n",
    "import project_tests as tests\n",
    "\n",
    "from keras.preprocessing.text import Tokenizer\n",
    "from keras.preprocessing.sequence import pad_sequences\n",
    "from keras.models import Model, Sequential\n",
    "from keras.layers import GRU, Input, Dense, TimeDistributed, Activation, RepeatVector, Bidirectional, RNN, SimpleRNN, LSTM\n",
    "from keras.layers.embeddings import Embedding\n",
    "from keras.optimizers import Adam\n",
    "from keras.losses import sparse_categorical_crossentropy"
   ]
  },
  {
   "cell_type": "markdown",
   "metadata": {},
   "source": [
    "### Verify access to the GPU\n",
    "The following test applies only if you expect to be using a GPU, e.g., while running in a Udacity Workspace or using an AWS instance with GPU support. Run the next cell, and verify that the device_type is \"GPU\".\n",
    "- If the device is not GPU & you are running from a Udacity Workspace, then save your workspace with the icon at the top, then click \"enable\" at the bottom of the workspace.\n",
    "- If the device is not GPU & you are running from an AWS instance, then refer to the cloud computing instructions in the classroom to verify your setup steps."
   ]
  },
  {
   "cell_type": "code",
   "execution_count": 3,
   "metadata": {},
   "outputs": [
    {
     "name": "stdout",
     "output_type": "stream",
     "text": [
      "[name: \"/cpu:0\"\n",
      "device_type: \"CPU\"\n",
      "memory_limit: 268435456\n",
      "locality {\n",
      "}\n",
      "incarnation: 3355288277596517690\n",
      ", name: \"/gpu:0\"\n",
      "device_type: \"GPU\"\n",
      "memory_limit: 357302272\n",
      "locality {\n",
      "  bus_id: 1\n",
      "}\n",
      "incarnation: 13397517694887515505\n",
      "physical_device_desc: \"device: 0, name: Tesla K80, pci bus id: 0000:00:04.0\"\n",
      "]\n"
     ]
    }
   ],
   "source": [
    "from tensorflow.python.client import device_lib\n",
    "print(device_lib.list_local_devices())"
   ]
  },
  {
   "cell_type": "markdown",
   "metadata": {},
   "source": [
    "## Dataset\n",
    "We begin by investigating the dataset that will be used to train and evaluate your pipeline.  The most common datasets used for machine translation are from [WMT](http://www.statmt.org/).  However, that will take a long time to train a neural network on.  We'll be using a dataset we created for this project that contains a small vocabulary.  You'll be able to train your model in a reasonable time with this dataset.\n",
    "### Load Data\n",
    "The data is located in `data/small_vocab_en` and `data/small_vocab_fr`. The `small_vocab_en` file contains English sentences with their French translations in the `small_vocab_fr` file. Load the English and French data from these files from running the cell below."
   ]
  },
  {
   "cell_type": "code",
   "execution_count": 4,
   "metadata": {},
   "outputs": [
    {
     "name": "stdout",
     "output_type": "stream",
     "text": [
      "Dataset Loaded\n"
     ]
    }
   ],
   "source": [
    "# Load English data\n",
    "english_sentences = helper.load_data('data/small_vocab_en')\n",
    "# Load French data\n",
    "french_sentences = helper.load_data('data/small_vocab_fr')\n",
    "\n",
    "print('Dataset Loaded')"
   ]
  },
  {
   "cell_type": "markdown",
   "metadata": {},
   "source": [
    "### Files\n",
    "Each line in `small_vocab_en` contains an English sentence with the respective translation in each line of `small_vocab_fr`.  View the first two lines from each file."
   ]
  },
  {
   "cell_type": "code",
   "execution_count": 5,
   "metadata": {},
   "outputs": [
    {
     "name": "stdout",
     "output_type": "stream",
     "text": [
      "small_vocab_en Line 1:  new jersey is sometimes quiet during autumn , and it is snowy in april .\n",
      "small_vocab_fr Line 1:  new jersey est parfois calme pendant l' automne , et il est neigeux en avril .\n",
      "small_vocab_en Line 2:  the united states is usually chilly during july , and it is usually freezing in november .\n",
      "small_vocab_fr Line 2:  les états-unis est généralement froid en juillet , et il gèle habituellement en novembre .\n"
     ]
    }
   ],
   "source": [
    "for sample_i in range(2):\n",
    "    print('small_vocab_en Line {}:  {}'.format(sample_i + 1, english_sentences[sample_i]))\n",
    "    print('small_vocab_fr Line {}:  {}'.format(sample_i + 1, french_sentences[sample_i]))"
   ]
  },
  {
   "cell_type": "markdown",
   "metadata": {},
   "source": [
    "From looking at the sentences, you can see they have been preprocessed already.  The puncuations have been delimited using spaces. All the text have been converted to lowercase.  This should save you some time, but the text requires more preprocessing.\n",
    "### Vocabulary\n",
    "The complexity of the problem is determined by the complexity of the vocabulary.  A more complex vocabulary is a more complex problem.  Let's look at the complexity of the dataset we'll be working with."
   ]
  },
  {
   "cell_type": "code",
   "execution_count": 6,
   "metadata": {},
   "outputs": [
    {
     "name": "stdout",
     "output_type": "stream",
     "text": [
      "1823250 English words.\n",
      "227 unique English words.\n",
      "10 Most common words in the English dataset:\n",
      "\"is\" \",\" \".\" \"in\" \"it\" \"during\" \"the\" \"but\" \"and\" \"sometimes\"\n",
      "\n",
      "1961295 French words.\n",
      "355 unique French words.\n",
      "10 Most common words in the French dataset:\n",
      "\"est\" \".\" \",\" \"en\" \"il\" \"les\" \"mais\" \"et\" \"la\" \"parfois\"\n"
     ]
    }
   ],
   "source": [
    "english_words_counter = collections.Counter([word for sentence in english_sentences for word in sentence.split()])\n",
    "french_words_counter = collections.Counter([word for sentence in french_sentences for word in sentence.split()])\n",
    "\n",
    "print('{} English words.'.format(len([word for sentence in english_sentences for word in sentence.split()])))\n",
    "print('{} unique English words.'.format(len(english_words_counter)))\n",
    "print('10 Most common words in the English dataset:')\n",
    "print('\"' + '\" \"'.join(list(zip(*english_words_counter.most_common(10)))[0]) + '\"')\n",
    "print()\n",
    "print('{} French words.'.format(len([word for sentence in french_sentences for word in sentence.split()])))\n",
    "print('{} unique French words.'.format(len(french_words_counter)))\n",
    "print('10 Most common words in the French dataset:')\n",
    "print('\"' + '\" \"'.join(list(zip(*french_words_counter.most_common(10)))[0]) + '\"')"
   ]
  },
  {
   "cell_type": "markdown",
   "metadata": {},
   "source": [
    "For comparison, _Alice's Adventures in Wonderland_ contains 2,766 unique words of a total of 15,500 words.\n",
    "## Preprocess\n",
    "For this project, you won't use text data as input to your model. Instead, you'll convert the text into sequences of integers using the following preprocess methods:\n",
    "1. Tokenize the words into ids\n",
    "2. Add padding to make all the sequences the same length.\n",
    "\n",
    "Time to start preprocessing the data...\n",
    "### Tokenize (IMPLEMENTATION)\n",
    "For a neural network to predict on text data, it first has to be turned into data it can understand. Text data like \"dog\" is a sequence of ASCII character encodings.  Since a neural network is a series of multiplication and addition operations, the input data needs to be number(s).\n",
    "\n",
    "We can turn each character into a number or each word into a number.  These are called character and word ids, respectively.  Character ids are used for character level models that generate text predictions for each character.  A word level model uses word ids that generate text predictions for each word.  Word level models tend to learn better, since they are lower in complexity, so we'll use those.\n",
    "\n",
    "Turn each sentence into a sequence of words ids using Keras's [`Tokenizer`](https://keras.io/preprocessing/text/#tokenizer) function. Use this function to tokenize `english_sentences` and `french_sentences` in the cell below.\n",
    "\n",
    "Running the cell will run `tokenize` on sample data and show output for debugging."
   ]
  },
  {
   "cell_type": "code",
   "execution_count": 7,
   "metadata": {},
   "outputs": [
    {
     "name": "stdout",
     "output_type": "stream",
     "text": [
      "{'the': 1, 'quick': 2, 'a': 3, 'brown': 4, 'fox': 5, 'jumps': 6, 'over': 7, 'lazy': 8, 'dog': 9, 'by': 10, 'jove': 11, 'my': 12, 'study': 13, 'of': 14, 'lexicography': 15, 'won': 16, 'prize': 17, 'this': 18, 'is': 19, 'short': 20, 'sentence': 21}\n",
      "\n",
      "Sequence 1 in x\n",
      "  Input:  The quick brown fox jumps over the lazy dog .\n",
      "  Output: [1, 2, 4, 5, 6, 7, 1, 8, 9]\n",
      "Sequence 2 in x\n",
      "  Input:  By Jove , my quick study of lexicography won a prize .\n",
      "  Output: [10, 11, 12, 2, 13, 14, 15, 16, 3, 17]\n",
      "Sequence 3 in x\n",
      "  Input:  This is a short sentence .\n",
      "  Output: [18, 19, 3, 20, 21]\n"
     ]
    }
   ],
   "source": [
    "def tokenize(x):\n",
    "    \"\"\"\n",
    "    Tokenize x\n",
    "    :param x: List of sentences/strings to be tokenized\n",
    "    :return: Tuple of (tokenized x data, tokenizer used to tokenize x)\n",
    "    \"\"\"\n",
    "    # TODO: Implement\n",
    "    tokenizer = Tokenizer()\n",
    "    tokenizer.fit_on_texts(x)\n",
    "    return tokenizer.texts_to_sequences(x), tokenizer\n",
    "    \n",
    "tests.test_tokenize(tokenize)\n",
    "\n",
    "# Tokenize Example output\n",
    "text_sentences = [\n",
    "    'The quick brown fox jumps over the lazy dog .',\n",
    "    'By Jove , my quick study of lexicography won a prize .',\n",
    "    'This is a short sentence .']\n",
    "text_tokenized, text_tokenizer = tokenize(text_sentences)\n",
    "print(text_tokenizer.word_index)\n",
    "print()\n",
    "for sample_i, (sent, token_sent) in enumerate(zip(text_sentences, text_tokenized)):\n",
    "    print('Sequence {} in x'.format(sample_i + 1))\n",
    "    print('  Input:  {}'.format(sent))\n",
    "    print('  Output: {}'.format(token_sent))"
   ]
  },
  {
   "cell_type": "markdown",
   "metadata": {},
   "source": [
    "### Padding (IMPLEMENTATION)\n",
    "When batching the sequence of word ids together, each sequence needs to be the same length.  Since sentences are dynamic in length, we can add padding to the end of the sequences to make them the same length.\n",
    "\n",
    "Make sure all the English sequences have the same length and all the French sequences have the same length by adding padding to the **end** of each sequence using Keras's [`pad_sequences`](https://keras.io/preprocessing/sequence/#pad_sequences) function."
   ]
  },
  {
   "cell_type": "code",
   "execution_count": 8,
   "metadata": {},
   "outputs": [
    {
     "name": "stdout",
     "output_type": "stream",
     "text": [
      "Sequence 1 in x\n",
      "  Input:  [1 2 4 5 6 7 1 8 9]\n",
      "  Output: [1 2 4 5 6 7 1 8 9 0]\n",
      "Sequence 2 in x\n",
      "  Input:  [10 11 12  2 13 14 15 16  3 17]\n",
      "  Output: [10 11 12  2 13 14 15 16  3 17]\n",
      "Sequence 3 in x\n",
      "  Input:  [18 19  3 20 21]\n",
      "  Output: [18 19  3 20 21  0  0  0  0  0]\n"
     ]
    }
   ],
   "source": [
    "def pad(x, length=None):\n",
    "    \"\"\"\n",
    "    Pad x\n",
    "    :param x: List of sequences.\n",
    "    :param length: Length to pad the sequence to.  If None, use length of longest sequence in x.\n",
    "    :return: Padded numpy array of sequences\n",
    "    \"\"\"\n",
    "    # TODO: Implement\n",
    "    maxlen = length\n",
    "    if maxlen == None:\n",
    "        maxlen = 0\n",
    "        for row in x:\n",
    "            if len(row) > maxlen:\n",
    "                maxlen = len(row)\n",
    "    seq = pad_sequences(x, maxlen, padding='post')\n",
    "    return seq\n",
    "          \n",
    "tests.test_pad(pad)\n",
    "\n",
    "# Pad Tokenized output\n",
    "test_pad = pad(text_tokenized)\n",
    "for sample_i, (token_sent, pad_sent) in enumerate(zip(text_tokenized, test_pad)):\n",
    "    print('Sequence {} in x'.format(sample_i + 1))\n",
    "    print('  Input:  {}'.format(np.array(token_sent)))\n",
    "    print('  Output: {}'.format(pad_sent))"
   ]
  },
  {
   "cell_type": "markdown",
   "metadata": {},
   "source": [
    "### Preprocess Pipeline\n",
    "Your focus for this project is to build neural network architecture, so we won't ask you to create a preprocess pipeline.  Instead, we've provided you with the implementation of the `preprocess` function."
   ]
  },
  {
   "cell_type": "code",
   "execution_count": 9,
   "metadata": {},
   "outputs": [
    {
     "name": "stdout",
     "output_type": "stream",
     "text": [
      "Data Preprocessed\n",
      "Max English sentence length: 15\n",
      "Max French sentence length: 21\n",
      "English vocabulary size: 199\n",
      "French vocabulary size: 344\n"
     ]
    }
   ],
   "source": [
    "def preprocess(x, y):\n",
    "    \"\"\"\n",
    "    Preprocess x and y\n",
    "    :param x: Feature List of sentences\n",
    "    :param y: Label List of sentences\n",
    "    :return: Tuple of (Preprocessed x, Preprocessed y, x tokenizer, y tokenizer)\n",
    "    \"\"\"\n",
    "    preprocess_x, x_tk = tokenize(x)\n",
    "    preprocess_y, y_tk = tokenize(y)\n",
    "\n",
    "    preprocess_x = pad(preprocess_x)\n",
    "    preprocess_y = pad(preprocess_y)\n",
    "\n",
    "    # Keras's sparse_categorical_crossentropy function requires the labels to be in 3 dimensions\n",
    "    preprocess_y = preprocess_y.reshape(*preprocess_y.shape, 1)\n",
    "\n",
    "    return preprocess_x, preprocess_y, x_tk, y_tk\n",
    "\n",
    "preproc_english_sentences, preproc_french_sentences, english_tokenizer, french_tokenizer =\\\n",
    "    preprocess(english_sentences, french_sentences)\n",
    "    \n",
    "max_english_sequence_length = preproc_english_sentences.shape[1]\n",
    "max_french_sequence_length = preproc_french_sentences.shape[1]\n",
    "english_vocab_size = len(english_tokenizer.word_index)\n",
    "french_vocab_size = len(french_tokenizer.word_index)\n",
    "\n",
    "print('Data Preprocessed')\n",
    "print(\"Max English sentence length:\", max_english_sequence_length)\n",
    "print(\"Max French sentence length:\", max_french_sequence_length)\n",
    "print(\"English vocabulary size:\", english_vocab_size)\n",
    "print(\"French vocabulary size:\", french_vocab_size)"
   ]
  },
  {
   "cell_type": "markdown",
   "metadata": {},
   "source": [
    "## Models\n",
    "In this section, you will experiment with various neural network architectures.\n",
    "You will begin by training four relatively simple architectures.\n",
    "- Model 1 is a simple RNN\n",
    "- Model 2 is a RNN with Embedding\n",
    "- Model 3 is a Bidirectional RNN\n",
    "- Model 4 is an optional Encoder-Decoder RNN\n",
    "\n",
    "After experimenting with the four simple architectures, you will construct a deeper architecture that is designed to outperform all four models.\n",
    "### Ids Back to Text\n",
    "The neural network will be translating the input to words ids, which isn't the final form we want.  We want the French translation.  The function `logits_to_text` will bridge the gab between the logits from the neural network to the French translation.  You'll be using this function to better understand the output of the neural network."
   ]
  },
  {
   "cell_type": "code",
   "execution_count": 10,
   "metadata": {},
   "outputs": [
    {
     "name": "stdout",
     "output_type": "stream",
     "text": [
      "`logits_to_text` function loaded.\n"
     ]
    }
   ],
   "source": [
    "def logits_to_text(logits, tokenizer):\n",
    "    \"\"\"\n",
    "    Turn logits from a neural network into text using the tokenizer\n",
    "    :param logits: Logits from a neural network\n",
    "    :param tokenizer: Keras Tokenizer fit on the labels\n",
    "    :return: String that represents the text of the logits\n",
    "    \"\"\"\n",
    "    index_to_words = {id: word for word, id in tokenizer.word_index.items()}\n",
    "    index_to_words[0] = '<PAD>'\n",
    "\n",
    "    return ' '.join([index_to_words[prediction] for prediction in np.argmax(logits, 1)])\n",
    "\n",
    "print('`logits_to_text` function loaded.')"
   ]
  },
  {
   "cell_type": "markdown",
   "metadata": {},
   "source": [
    "### Model 1: RNN (IMPLEMENTATION)\n",
    "![RNN](images/rnn.png)\n",
    "A basic RNN model is a good baseline for sequence data.  In this model, you'll build a RNN that translates English to French."
   ]
  },
  {
   "cell_type": "code",
   "execution_count": 11,
   "metadata": {},
   "outputs": [],
   "source": [
    "# Define an id list of indices for testing.\n",
    "idx_list = [81328, 28080, 37540, 35446, 107964]"
   ]
  },
  {
   "cell_type": "code",
   "execution_count": 12,
   "metadata": {},
   "outputs": [],
   "source": [
    "def remove_padding(padded):\n",
    "    return padded.replace('<PAD>','')"
   ]
  },
  {
   "cell_type": "code",
   "execution_count": 11,
   "metadata": {
    "scrolled": false
   },
   "outputs": [
    {
     "name": "stdout",
     "output_type": "stream",
     "text": [
      "_________________________________________________________________\n",
      "Layer (type)                 Output Shape              Param #   \n",
      "=================================================================\n",
      "gru_1 (GRU)                  (None, 21, 128)           49920     \n",
      "_________________________________________________________________\n",
      "dense_1 (Dense)              (None, 21, 344)           44376     \n",
      "=================================================================\n",
      "Total params: 94,296\n",
      "Trainable params: 94,296\n",
      "Non-trainable params: 0\n",
      "_________________________________________________________________\n",
      "_________________________________________________________________\n",
      "Layer (type)                 Output Shape              Param #   \n",
      "=================================================================\n",
      "gru_2 (GRU)                  (None, 21, 128)           49920     \n",
      "_________________________________________________________________\n",
      "dense_2 (Dense)              (None, 21, 344)           44376     \n",
      "=================================================================\n",
      "Total params: 94,296\n",
      "Trainable params: 94,296\n",
      "Non-trainable params: 0\n",
      "_________________________________________________________________\n",
      "Train on 110288 samples, validate on 27573 samples\n",
      "Epoch 1/20\n",
      "110288/110288 [==============================] - 11s 96us/step - loss: 4.2670 - acc: 0.4026 - val_loss: nan - val_acc: 0.4474\n",
      "Epoch 2/20\n",
      "110288/110288 [==============================] - 9s 85us/step - loss: 2.7703 - acc: 0.4482 - val_loss: nan - val_acc: 0.4588\n",
      "Epoch 3/20\n",
      "110288/110288 [==============================] - 9s 85us/step - loss: 2.6187 - acc: 0.4565 - val_loss: nan - val_acc: 0.4675\n",
      "Epoch 4/20\n",
      "110288/110288 [==============================] - 9s 85us/step - loss: 2.5118 - acc: 0.4677 - val_loss: nan - val_acc: 0.4770\n",
      "Epoch 5/20\n",
      "110288/110288 [==============================] - 9s 85us/step - loss: 2.4206 - acc: 0.4837 - val_loss: nan - val_acc: 0.5016\n",
      "Epoch 6/20\n",
      "110288/110288 [==============================] - 9s 85us/step - loss: 2.3282 - acc: 0.5048 - val_loss: nan - val_acc: 0.5164\n",
      "Epoch 7/20\n",
      "110288/110288 [==============================] - 9s 85us/step - loss: 2.2435 - acc: 0.5220 - val_loss: nan - val_acc: 0.5519\n",
      "Epoch 8/20\n",
      "110288/110288 [==============================] - 9s 85us/step - loss: 2.1622 - acc: 0.5388 - val_loss: nan - val_acc: 0.5583\n",
      "Epoch 9/20\n",
      "110288/110288 [==============================] - 9s 85us/step - loss: 2.0858 - acc: 0.5483 - val_loss: nan - val_acc: 0.5640\n",
      "Epoch 10/20\n",
      "110288/110288 [==============================] - 9s 85us/step - loss: 2.0114 - acc: 0.5564 - val_loss: nan - val_acc: 0.5691\n",
      "Epoch 11/20\n",
      "110288/110288 [==============================] - 9s 85us/step - loss: 1.9423 - acc: 0.5620 - val_loss: nan - val_acc: 0.5714\n",
      "Epoch 12/20\n",
      "110288/110288 [==============================] - 9s 86us/step - loss: 1.8835 - acc: 0.5663 - val_loss: nan - val_acc: 0.5738\n",
      "Epoch 13/20\n",
      "110288/110288 [==============================] - 9s 85us/step - loss: 1.8335 - acc: 0.5707 - val_loss: nan - val_acc: 0.5789\n",
      "Epoch 14/20\n",
      "110288/110288 [==============================] - 9s 85us/step - loss: 1.7941 - acc: 0.5755 - val_loss: nan - val_acc: 0.5832\n",
      "Epoch 15/20\n",
      "110288/110288 [==============================] - 9s 85us/step - loss: 1.7585 - acc: 0.5774 - val_loss: nan - val_acc: 0.5872\n",
      "Epoch 16/20\n",
      "110288/110288 [==============================] - 9s 85us/step - loss: 1.7246 - acc: 0.5802 - val_loss: nan - val_acc: 0.5879\n",
      "Epoch 17/20\n",
      "110288/110288 [==============================] - 9s 85us/step - loss: 1.6982 - acc: 0.5816 - val_loss: nan - val_acc: 0.5898\n",
      "Epoch 18/20\n",
      "110288/110288 [==============================] - 9s 85us/step - loss: 1.6716 - acc: 0.5845 - val_loss: nan - val_acc: 0.5908\n",
      "Epoch 19/20\n",
      "110288/110288 [==============================] - 9s 85us/step - loss: 1.6480 - acc: 0.5857 - val_loss: nan - val_acc: 0.5930\n",
      "Epoch 20/20\n",
      "110288/110288 [==============================] - 9s 86us/step - loss: 1.6257 - acc: 0.5879 - val_loss: nan - val_acc: 0.5946\n",
      "['new jersey is sometimes quiet during autumn , and it is snowy in april .']\n",
      "[\"new jersey est parfois calme pendant l' automne , et il est neigeux en avril .\"]\n",
      "new jersey est parfois agréable en en mais il est est en en <PAD> <PAD> <PAD> <PAD> <PAD> <PAD> <PAD> <PAD>\n"
     ]
    }
   ],
   "source": [
    "from keras.optimizers import Nadam\n",
    "\n",
    "def simple_model(input_shape, output_sequence_length, english_vocab_size, french_vocab_size):\n",
    "    \"\"\"\n",
    "    Build and train a basic RNN on x and y\n",
    "    :param input_shape: Tuple of input shape\n",
    "    :param output_sequence_length: Length of output sequence\n",
    "    :param english_vocab_size: Number of unique English words in the dataset\n",
    "    :param french_vocab_size: Number of unique French words in the dataset\n",
    "    :return: Keras model built, but not trained\n",
    "    \"\"\"\n",
    "    # TODO: Build the layers\n",
    "    HIDDEN_SIZE = 128\n",
    "    learning_rate = 0.0001\n",
    "    model = Sequential()\n",
    "    #Create a GRU based RNN network of a defined size and specified dropout.\n",
    "    model.add(GRU(HIDDEN_SIZE, dropout=0.20, return_sequences=True, unroll=True, input_shape=(input_shape[1],1)))\n",
    "    #Attach to a fully connected layer and use a softmax activation.\n",
    "    model.add(Dense(french_vocab_size, activation='softmax'))\n",
    "    \n",
    "    #Trying out with Nadam. \n",
    "    model.compile(loss=sparse_categorical_crossentropy,\n",
    "                  optimizer=Nadam(learning_rate),\n",
    "                  metrics=['accuracy'])\n",
    "    model.summary()\n",
    "    return model\n",
    "tests.test_simple_model(simple_model)\n",
    "\n",
    "# Reshaping the input to work with a basic RNN\n",
    "tmp_x = pad(preproc_english_sentences, max_french_sequence_length)\n",
    "tmp_x = tmp_x.reshape((-1, preproc_french_sentences.shape[-2], 1))\n",
    "\n",
    "# Train the neural network\n",
    "simple_rnn_model = simple_model(\n",
    "    tmp_x.shape,\n",
    "    max_french_sequence_length,\n",
    "    english_vocab_size,\n",
    "    french_vocab_size)\n",
    "simple_rnn_model.fit(tmp_x, preproc_french_sentences, batch_size=512, epochs=20, validation_split=0.2)\n",
    "\n",
    "# Print prediction(s)\n",
    "print(english_sentences[:1])\n",
    "print(french_sentences[:1])\n",
    "print(logits_to_text(simple_rnn_model.predict(tmp_x[:1])[0], french_tokenizer))"
   ]
  },
  {
   "cell_type": "code",
   "execution_count": 17,
   "metadata": {},
   "outputs": [
    {
     "name": "stdout",
     "output_type": "stream",
     "text": [
      "Testing transation of index no:  81328\n",
      "The English sentence is:  the united states is pleasant during autumn , but it is mild in august .\n",
      "The translated French sentence is:  la états unis est agréable en l' mais il est est en en        \n",
      "\n",
      "\n",
      "Testing transation of index no:  28080\n",
      "The English sentence is:  china is usually beautiful during winter , but it is quiet in fall .\n",
      "The translated French sentence is:  la est est agréable en en mais il il est en en         \n",
      "\n",
      "\n",
      "Testing transation of index no:  37540\n",
      "The English sentence is:  she liked the rusty green automobile .\n",
      "The translated French sentence is:  la fruit est est voiture et               \n",
      "\n",
      "\n",
      "Testing transation of index no:  35446\n",
      "The English sentence is:  paris is never mild during april , but it is usually busy in autumn .\n",
      "The translated French sentence is:  new est est parfois en en mais il il est est en en        \n",
      "\n",
      "\n",
      "Testing transation of index no:  107964\n",
      "The English sentence is:  rabbits were his favorite animals .\n",
      "The translated French sentence is:  ils n'aime jersey le le                \n",
      "\n",
      "\n"
     ]
    }
   ],
   "source": [
    "# Trying out a few examples. \n",
    "for num in idx_list:\n",
    "    print('Testing transation of index no: ',num)\n",
    "    print('The English sentence is: ', english_sentences[num])\n",
    "    \n",
    "    print('The translated French sentence is: ', remove_padding(logits_to_text(simple_rnn_model.predict(tmp_x[num].reshape(1,21,1))[0], french_tokenizer)))\n",
    "    print('\\n')"
   ]
  },
  {
   "cell_type": "markdown",
   "metadata": {},
   "source": [
    "### Model 2: Embedding (IMPLEMENTATION)\n",
    "![RNN](images/embedding.png)\n",
    "You've turned the words into ids, but there's a better representation of a word.  This is called word embeddings.  An embedding is a vector representation of the word that is close to similar words in n-dimensional space, where the n represents the size of the embedding vectors.\n",
    "\n",
    "In this model, you'll create a RNN model using embedding."
   ]
  },
  {
   "cell_type": "code",
   "execution_count": 18,
   "metadata": {
    "scrolled": false
   },
   "outputs": [
    {
     "name": "stdout",
     "output_type": "stream",
     "text": [
      "_________________________________________________________________\n",
      "Layer (type)                 Output Shape              Param #   \n",
      "=================================================================\n",
      "embedding_1 (Embedding)      (None, 21, 500)           99500     \n",
      "_________________________________________________________________\n",
      "gru_3 (GRU)                  (None, 21, 512)           1555968   \n",
      "_________________________________________________________________\n",
      "dense_3 (Dense)              (None, 21, 344)           176472    \n",
      "=================================================================\n",
      "Total params: 1,831,940\n",
      "Trainable params: 1,831,940\n",
      "Non-trainable params: 0\n",
      "_________________________________________________________________\n",
      "_________________________________________________________________\n",
      "Layer (type)                 Output Shape              Param #   \n",
      "=================================================================\n",
      "embedding_2 (Embedding)      (None, 21, 500)           99500     \n",
      "_________________________________________________________________\n",
      "gru_4 (GRU)                  (None, 21, 512)           1555968   \n",
      "_________________________________________________________________\n",
      "dense_4 (Dense)              (None, 21, 344)           176472    \n",
      "=================================================================\n",
      "Total params: 1,831,940\n",
      "Trainable params: 1,831,940\n",
      "Non-trainable params: 0\n",
      "_________________________________________________________________\n",
      "Train on 110288 samples, validate on 27573 samples\n",
      "Epoch 1/10\n",
      "110288/110288 [==============================] - 27s 241us/step - loss: 2.5658 - acc: 0.5165 - val_loss: nan - val_acc: 0.6448\n",
      "Epoch 2/10\n",
      "110288/110288 [==============================] - 25s 229us/step - loss: 0.9694 - acc: 0.7548 - val_loss: nan - val_acc: 0.8119\n",
      "Epoch 3/10\n",
      "110288/110288 [==============================] - 25s 230us/step - loss: 0.5437 - acc: 0.8372 - val_loss: nan - val_acc: 0.8660\n",
      "Epoch 4/10\n",
      "110288/110288 [==============================] - 25s 230us/step - loss: 0.3883 - acc: 0.8777 - val_loss: nan - val_acc: 0.8911\n",
      "Epoch 5/10\n",
      "110288/110288 [==============================] - 25s 230us/step - loss: 0.3185 - acc: 0.8967 - val_loss: nan - val_acc: 0.9071\n",
      "Epoch 6/10\n",
      "110288/110288 [==============================] - 25s 230us/step - loss: 0.2759 - acc: 0.9091 - val_loss: nan - val_acc: 0.9156\n",
      "Epoch 7/10\n",
      "110288/110288 [==============================] - 25s 230us/step - loss: 0.2495 - acc: 0.9165 - val_loss: nan - val_acc: 0.9225\n",
      "Epoch 8/10\n",
      "110288/110288 [==============================] - 25s 230us/step - loss: 0.2292 - acc: 0.9223 - val_loss: nan - val_acc: 0.9247\n",
      "Epoch 9/10\n",
      "110288/110288 [==============================] - 25s 230us/step - loss: 0.2161 - acc: 0.9259 - val_loss: nan - val_acc: 0.9278\n",
      "Epoch 10/10\n",
      "110288/110288 [==============================] - 25s 230us/step - loss: 0.2034 - acc: 0.9296 - val_loss: nan - val_acc: 0.9295\n",
      "['new jersey is sometimes quiet during autumn , and it is snowy in april .']\n",
      "new jersey est parfois calme en l' automne et il est neigeux en avril <PAD> <PAD> <PAD> <PAD> <PAD> <PAD> <PAD>\n"
     ]
    }
   ],
   "source": [
    "def embed_model(input_shape, output_sequence_length, english_vocab_size, french_vocab_size):\n",
    "    \"\"\"\n",
    "    Build and train a RNN model using word embedding on x and y\n",
    "    :param input_shape: Tuple of input shape\n",
    "    :param output_sequence_length: Length of output sequence\n",
    "    :param english_vocab_size: Number of unique English words in the dataset\n",
    "    :param french_vocab_size: Number of unique French words in the dataset\n",
    "    :return: Keras model built, but not trained\n",
    "    \"\"\"\n",
    "    # TODO: Implement\n",
    "    RNN_SIZE = 512\n",
    "    EMBED_SIZE = 500\n",
    "    learning_rate = 0.001\n",
    "    model = Sequential()\n",
    "    #Creating an embedding layer with a defined size\n",
    "    model.add(Embedding(english_vocab_size, EMBED_SIZE, input_length=input_shape[1]))\n",
    "    #Attach to a GRU layer of a specified size and defined dropout\n",
    "    model.add(GRU(RNN_SIZE, dropout=0.20, return_sequences=True, unroll=True))\n",
    "    #Attach to a fully connected layer\n",
    "    model.add(Dense(french_vocab_size, activation='softmax'))\n",
    "    \n",
    "    model.compile(loss=sparse_categorical_crossentropy,\n",
    "                  optimizer=Adam(learning_rate),\n",
    "                  metrics=['accuracy'])\n",
    "    model.summary()\n",
    "    return model\n",
    "\n",
    "tests.test_embed_model(embed_model)\n",
    "\n",
    "\n",
    "# TODO: Reshape the input\n",
    "tmp_x = pad(preproc_english_sentences, max_french_sequence_length)\n",
    "\n",
    "# TODO: Train the neural network\n",
    "embed_rnn_model = embed_model(\n",
    "    tmp_x.shape,\n",
    "    max_french_sequence_length,\n",
    "    english_vocab_size,\n",
    "    french_vocab_size)\n",
    "embed_rnn_model.fit(tmp_x, preproc_french_sentences, batch_size=1024, epochs=10, validation_split=0.2)\n",
    "\n",
    "# TODO: Print prediction(s)\n",
    "print(english_sentences[:1])\n",
    "print(logits_to_text(embed_rnn_model.predict(tmp_x[:1])[0], french_tokenizer))"
   ]
  },
  {
   "cell_type": "code",
   "execution_count": 19,
   "metadata": {
    "scrolled": false
   },
   "outputs": [
    {
     "name": "stdout",
     "output_type": "stream",
     "text": [
      "Testing transation of index no:  81328\n",
      "The English sentence is:  the united states is pleasant during autumn , but it is mild in august .\n",
      "The translated French sentence is:  les états unis est agréable au l'automne mais il est doux en mois  août      \n",
      "\n",
      "\n",
      "Testing transation of index no:  28080\n",
      "The English sentence is:  china is usually beautiful during winter , but it is quiet in fall .\n",
      "The translated French sentence is:  chine est généralement beau en l' hiver mais il est calme à l' automne       \n",
      "\n",
      "\n",
      "Testing transation of index no:  37540\n",
      "The English sentence is:  she liked the rusty green automobile .\n",
      "The translated French sentence is:  elle aimait la voiture verte rouillée               \n",
      "\n",
      "\n",
      "Testing transation of index no:  35446\n",
      "The English sentence is:  paris is never mild during april , but it is usually busy in autumn .\n",
      "The translated French sentence is:  paris est jamais doux en avril mais il est généralement occupé en l' automne       \n",
      "\n",
      "\n",
      "Testing transation of index no:  107964\n",
      "The English sentence is:  rabbits were his favorite animals .\n",
      "The translated French sentence is:  lapins étaient ses animaux préférés préférés               \n",
      "\n",
      "\n"
     ]
    }
   ],
   "source": [
    "#Test a few examples\n",
    "for num in idx_list:\n",
    "    print('Testing transation of index no: ',num)\n",
    "    print('The English sentence is: ', english_sentences[num])\n",
    "    print('The translated French sentence is: ', remove_padding(logits_to_text(embed_rnn_model.predict(tmp_x[num].reshape(1,21))[0], french_tokenizer)))\n",
    "    print('\\n')"
   ]
  },
  {
   "cell_type": "markdown",
   "metadata": {},
   "source": [
    "### Model 3: Bidirectional RNNs (IMPLEMENTATION)\n",
    "![RNN](images/bidirectional.png)\n",
    "One restriction of a RNN is that it can't see the future input, only the past.  This is where bidirectional recurrent neural networks come in.  They are able to see the future data."
   ]
  },
  {
   "cell_type": "code",
   "execution_count": 18,
   "metadata": {
    "scrolled": false
   },
   "outputs": [
    {
     "name": "stdout",
     "output_type": "stream",
     "text": [
      "Train on 110288 samples, validate on 27573 samples\n",
      "Epoch 1/10\n",
      "110288/110288 [==============================] - 16s 142us/step - loss: 2.6094 - acc: 0.4996 - val_loss: nan - val_acc: 0.5671\n",
      "Epoch 2/10\n",
      "110288/110288 [==============================] - 14s 128us/step - loss: 1.5883 - acc: 0.5941 - val_loss: nan - val_acc: 0.6121\n",
      "Epoch 3/10\n",
      "110288/110288 [==============================] - 14s 128us/step - loss: 1.3962 - acc: 0.6226 - val_loss: nan - val_acc: 0.6312\n",
      "Epoch 4/10\n",
      "110288/110288 [==============================] - 14s 129us/step - loss: 1.2941 - acc: 0.6399 - val_loss: nan - val_acc: 0.6459\n",
      "Epoch 5/10\n",
      "110288/110288 [==============================] - 14s 128us/step - loss: 1.2305 - acc: 0.6500 - val_loss: nan - val_acc: 0.6555\n",
      "Epoch 6/10\n",
      "110288/110288 [==============================] - 14s 128us/step - loss: 1.1838 - acc: 0.6582 - val_loss: nan - val_acc: 0.6627\n",
      "Epoch 7/10\n",
      "110288/110288 [==============================] - 14s 128us/step - loss: 1.1458 - acc: 0.6661 - val_loss: nan - val_acc: 0.6705\n",
      "Epoch 8/10\n",
      "110288/110288 [==============================] - 14s 128us/step - loss: 1.1123 - acc: 0.6731 - val_loss: nan - val_acc: 0.6748\n",
      "Epoch 9/10\n",
      "110288/110288 [==============================] - 14s 129us/step - loss: 1.0842 - acc: 0.6779 - val_loss: nan - val_acc: 0.6815\n",
      "Epoch 10/10\n",
      "110288/110288 [==============================] - 14s 128us/step - loss: 1.0602 - acc: 0.6818 - val_loss: nan - val_acc: 0.6855\n",
      "['new jersey is sometimes quiet during autumn , and it is snowy in april .']\n",
      "new jersey est parfois calme en mois et il est est en en <PAD> <PAD> <PAD> <PAD> <PAD> <PAD> <PAD> <PAD>\n"
     ]
    }
   ],
   "source": [
    "def bd_model(input_shape, output_sequence_length, english_vocab_size, french_vocab_size):\n",
    "    \"\"\"\n",
    "    Build and train a bidirectional RNN model on x and y\n",
    "    :param input_shape: Tuple of input shape\n",
    "    :param output_sequence_length: Length of output sequence\n",
    "    :param english_vocab_size: Number of unique English words in the dataset\n",
    "    :param french_vocab_size: Number of unique French words in the dataset\n",
    "    :return: Keras model built, but not trained\n",
    "    \"\"\"\n",
    "    # TODO: Implement\n",
    "    HIDDEN_SIZE = 128\n",
    "    learning_rate = 0.001\n",
    "    model = Sequential()\n",
    "    #Created an LSTM based Bidirectional model \n",
    "    model.add(Bidirectional(LSTM(HIDDEN_SIZE, return_sequences=True),input_shape=(input_shape[1],1)))\n",
    "    #Attached to a fully connected layer\n",
    "    model.add(Dense(french_vocab_size, activation='softmax'))\n",
    "    \n",
    "    model.compile(loss=sparse_categorical_crossentropy,\n",
    "                  optimizer=Adam(learning_rate),\n",
    "                  metrics=['accuracy'])\n",
    "    return model\n",
    "\n",
    "tests.test_bd_model(bd_model)\n",
    "\n",
    "# TODO: Reshape the input\n",
    "tmp_x = pad(preproc_english_sentences, max_french_sequence_length)\n",
    "tmp_x = tmp_x.reshape((-1, preproc_french_sentences.shape[-2], 1))\n",
    "\n",
    "# TODO: Train the neural network\n",
    "bd_rnn_model = bd_model(\n",
    "    tmp_x.shape,\n",
    "    max_french_sequence_length,\n",
    "    english_vocab_size,\n",
    "    french_vocab_size)\n",
    "bd_rnn_model.fit(tmp_x, preproc_french_sentences, batch_size=1024, epochs=10, validation_split=0.2)\n",
    "\n",
    "# TODO: Print prediction(s)\n",
    "print(english_sentences[:1])\n",
    "print(logits_to_text(bd_rnn_model.predict(tmp_x[:1])[0], french_tokenizer))"
   ]
  },
  {
   "cell_type": "code",
   "execution_count": 19,
   "metadata": {
    "scrolled": false
   },
   "outputs": [
    {
     "name": "stdout",
     "output_type": "stream",
     "text": [
      "Testing transation of index no:  81328\n",
      "The English sentence is:  the united states is pleasant during autumn , but it is mild in august .\n",
      "The translated French sentence is:  les états unis est agréable en mois mais il est est en août        \n",
      "\n",
      "\n",
      "Testing transation of index no:  28080\n",
      "The English sentence is:  china is usually beautiful during winter , but it is quiet in fall .\n",
      "The translated French sentence is:  la est est parfois en en mais il est est est en         \n",
      "\n",
      "\n",
      "Testing transation of index no:  37540\n",
      "The English sentence is:  she liked the rusty green automobile .\n",
      "The translated French sentence is:  il aimait le le voiture                \n",
      "\n",
      "\n",
      "Testing transation of index no:  35446\n",
      "The English sentence is:  paris is never mild during april , but it is usually busy in autumn .\n",
      "The translated French sentence is:  paris est jamais jamais en en mais il est est parfois en en        \n",
      "\n",
      "\n",
      "Testing transation of index no:  107964\n",
      "The English sentence is:  rabbits were his favorite animals .\n",
      "The translated French sentence is:  les sont sont animaux animaux préférés               \n",
      "\n",
      "\n"
     ]
    }
   ],
   "source": [
    "#Trying a few examples\n",
    "for num in idx_list:\n",
    "    print('Testing transation of index no: ',num)\n",
    "    print('The English sentence is: ', english_sentences[num])\n",
    "    print('The translated French sentence is: ', remove_padding(logits_to_text(bd_rnn_model.predict(tmp_x[num].reshape(1,21,1))[0], french_tokenizer)))\n",
    "    print('\\n')"
   ]
  },
  {
   "cell_type": "markdown",
   "metadata": {},
   "source": [
    "### Model 4: Encoder-Decoder (OPTIONAL)\n",
    "Time to look at encoder-decoder models.  This model is made up of an encoder and decoder. The encoder creates a matrix representation of the sentence.  The decoder takes this matrix as input and predicts the translation as output.\n",
    "\n",
    "Create an encoder-decoder model in the cell below."
   ]
  },
  {
   "cell_type": "code",
   "execution_count": 34,
   "metadata": {},
   "outputs": [
    {
     "name": "stdout",
     "output_type": "stream",
     "text": [
      "_________________________________________________________________\n",
      "Layer (type)                 Output Shape              Param #   \n",
      "=================================================================\n",
      "input_31 (InputLayer)        (None, 15, 1)             0         \n",
      "_________________________________________________________________\n",
      "lstm_29 (LSTM)               (None, 21)                1932      \n",
      "_________________________________________________________________\n",
      "dense_6 (Dense)              (None, 512)               11264     \n",
      "_________________________________________________________________\n",
      "repeat_vector_2 (RepeatVecto (None, 21, 512)           0         \n",
      "_________________________________________________________________\n",
      "lstm_30 (LSTM)               (None, 21, 512)           2099200   \n",
      "_________________________________________________________________\n",
      "time_distributed_1 (TimeDist (None, 21, 344)           176472    \n",
      "=================================================================\n",
      "Total params: 2,288,868\n",
      "Trainable params: 2,288,868\n",
      "Non-trainable params: 0\n",
      "_________________________________________________________________\n",
      "_________________________________________________________________\n",
      "Layer (type)                 Output Shape              Param #   \n",
      "=================================================================\n",
      "input_32 (InputLayer)        (None, 21, 1)             0         \n",
      "_________________________________________________________________\n",
      "lstm_31 (LSTM)               (None, 21)                1932      \n",
      "_________________________________________________________________\n",
      "dense_8 (Dense)              (None, 512)               11264     \n",
      "_________________________________________________________________\n",
      "repeat_vector_3 (RepeatVecto (None, 21, 512)           0         \n",
      "_________________________________________________________________\n",
      "lstm_32 (LSTM)               (None, 21, 512)           2099200   \n",
      "_________________________________________________________________\n",
      "time_distributed_2 (TimeDist (None, 21, 344)           176472    \n",
      "=================================================================\n",
      "Total params: 2,288,868\n",
      "Trainable params: 2,288,868\n",
      "Non-trainable params: 0\n",
      "_________________________________________________________________\n",
      "Train on 110288 samples, validate on 27573 samples\n",
      "Epoch 1/10\n",
      "110288/110288 [==============================] - 38s 344us/step - loss: 2.8538 - acc: 0.4540 - val_loss: nan - val_acc: 0.5061\n",
      "Epoch 2/10\n",
      "110288/110288 [==============================] - 35s 313us/step - loss: 1.9256 - acc: 0.5384 - val_loss: nan - val_acc: 0.5529\n",
      "Epoch 3/10\n",
      "110288/110288 [==============================] - 35s 313us/step - loss: 1.6217 - acc: 0.5743 - val_loss: nan - val_acc: 0.5887\n",
      "Epoch 4/10\n",
      "110288/110288 [==============================] - 35s 313us/step - loss: 1.4921 - acc: 0.5951 - val_loss: nan - val_acc: 0.6073\n",
      "Epoch 5/10\n",
      "110288/110288 [==============================] - 35s 314us/step - loss: 1.4208 - acc: 0.6089 - val_loss: nan - val_acc: 0.6165\n",
      "Epoch 6/10\n",
      "110288/110288 [==============================] - 35s 313us/step - loss: 1.3676 - acc: 0.6183 - val_loss: nan - val_acc: 0.6192\n",
      "Epoch 7/10\n",
      "110288/110288 [==============================] - 35s 314us/step - loss: 1.3376 - acc: 0.6220 - val_loss: nan - val_acc: 0.6208\n",
      "Epoch 8/10\n",
      "110288/110288 [==============================] - 35s 313us/step - loss: 1.3116 - acc: 0.6266 - val_loss: nan - val_acc: 0.6228\n",
      "Epoch 9/10\n",
      "110288/110288 [==============================] - 35s 313us/step - loss: 1.2947 - acc: 0.6293 - val_loss: nan - val_acc: 0.6274\n",
      "Epoch 10/10\n",
      "110288/110288 [==============================] - 34s 313us/step - loss: 1.2784 - acc: 0.6321 - val_loss: nan - val_acc: 0.6370\n",
      "['new jersey is sometimes quiet during autumn , and it is snowy in april .']\n",
      "new jersey est parfois chaud en mois mais il est il en en <PAD> <PAD> <PAD> <PAD> <PAD> <PAD> <PAD> <PAD>\n"
     ]
    }
   ],
   "source": [
    "def encdec_model(input_shape, output_sequence_length, english_vocab_size, french_vocab_size):\n",
    "    \"\"\"\n",
    "    Build and train an encoder-decoder model on x and y\n",
    "    :param input_shape: Tuple of input shape\n",
    "    :param output_sequence_length: Length of output sequence\n",
    "    :param english_vocab_size: Number of unique English words in the dataset\n",
    "    :param french_vocab_size: Number of unique French words in the dataset\n",
    "    :return: Keras model built, but not trained\n",
    "    \"\"\"\n",
    "    # OPTIONAL: Implement\n",
    "    # TODO: Implement\n",
    "    RNN_SIZE = 512\n",
    "    learning_rate = 0.001\n",
    "    \n",
    "    '''\n",
    "    Referred to this section of the code for understanding Keras based Seq2Seq\n",
    "    https://blog.keras.io/building-autoencoders-in-keras.html\n",
    "    '''\n",
    "    \n",
    "    #Encoder\n",
    "    #Define an encoder\n",
    "    encoder_input = Input(shape=input_shape[1:])\n",
    "    #Attach to an LSTM\n",
    "    encoder_rnn = LSTM(output_sequence_length)(encoder_input)\n",
    "    #Evaluate the RNN\n",
    "    encoder_output = Dense(RNN_SIZE, activation='relu')(encoder_rnn)\n",
    "    \n",
    "    #Decoder\n",
    "    #Feed the encoder output here.  Attach a repeat vector for generating a sequence.\n",
    "    decoder_input = RepeatVector(output_sequence_length)(encoder_output)\n",
    "    #Attach to an LSTM\n",
    "    decoder_rnn = LSTM(RNN_SIZE, return_sequences=True)(decoder_input)\n",
    "    #Attach to a fully connected layer.\n",
    "    decoder_output = TimeDistributed(Dense(french_vocab_size, activation='softmax'))(decoder_rnn)\n",
    "\n",
    "    #Model def based on the encoder and decoder.\n",
    "    model = Model(inputs=encoder_input, outputs=decoder_output)\n",
    "    \n",
    "    model.compile(loss=sparse_categorical_crossentropy,\n",
    "                  optimizer=Adam(learning_rate),\n",
    "                  metrics=['accuracy'])\n",
    "    \n",
    "    model.summary()\n",
    "    \n",
    "    return model\n",
    "tests.test_encdec_model(encdec_model)\n",
    "\n",
    "\n",
    "# OPTIONAL: Train and Print prediction(s)\n",
    "# TODO: Reshape the input\n",
    "tmp_x = pad(preproc_english_sentences, max_french_sequence_length)\n",
    "tmp_x = tmp_x.reshape((-1, preproc_french_sentences.shape[-2], 1))\n",
    "\n",
    "# TODO: Train the neural network\n",
    "encdec_rnn_model = encdec_model(\n",
    "    tmp_x.shape,\n",
    "    max_french_sequence_length,\n",
    "    english_vocab_size,\n",
    "    french_vocab_size)\n",
    "encdec_rnn_model.fit(tmp_x, preproc_french_sentences, batch_size=1024, epochs=10, validation_split=0.2)\n",
    "\n",
    "# TODO: Print prediction(s)\n",
    "print(english_sentences[:1])\n",
    "print(logits_to_text(encdec_rnn_model.predict(tmp_x[:1])[0], french_tokenizer))"
   ]
  },
  {
   "cell_type": "code",
   "execution_count": 35,
   "metadata": {},
   "outputs": [
    {
     "name": "stdout",
     "output_type": "stream",
     "text": [
      "Testing transation of index no:  81328\n",
      "The English sentence is:  the united states is pleasant during autumn , but it is mild in august .\n",
      "The translated French sentence is:  les états unis est agréable en mois mais il est est en en        \n",
      "\n",
      "\n",
      "Testing transation of index no:  28080\n",
      "The English sentence is:  china is usually beautiful during winter , but it is quiet in fall .\n",
      "The translated French sentence is:  la est est parfois en en mais il il est en en         \n",
      "\n",
      "\n",
      "Testing transation of index no:  37540\n",
      "The English sentence is:  she liked the rusty green automobile .\n",
      "The translated French sentence is:  il aimait le nouvelle voiture voiture               \n",
      "\n",
      "\n",
      "Testing transation of index no:  35446\n",
      "The English sentence is:  paris is never mild during april , but it is usually busy in autumn .\n",
      "The translated French sentence is:  la est est jamais en en et il il est est en en        \n",
      "\n",
      "\n",
      "Testing transation of index no:  107964\n",
      "The English sentence is:  rabbits were his favorite animals .\n",
      "The translated French sentence is:  il sont sont animaux                 \n",
      "\n",
      "\n"
     ]
    }
   ],
   "source": [
    "#Trying out a few examples\n",
    "for num in idx_list:\n",
    "    print('Testing transation of index no: ',num)\n",
    "    print('The English sentence is: ', english_sentences[num])\n",
    "    print('The translated French sentence is: ', remove_padding(logits_to_text(encdec_rnn_model.predict(tmp_x[num].reshape(1,21,1))[0], french_tokenizer)))\n",
    "    print('\\n')"
   ]
  },
  {
   "cell_type": "markdown",
   "metadata": {},
   "source": [
    "### Model 5: Custom (IMPLEMENTATION)\n",
    "Use everything you learned from the previous models to create a model that incorporates embedding and a bidirectional rnn into one model."
   ]
  },
  {
   "cell_type": "code",
   "execution_count": 13,
   "metadata": {},
   "outputs": [
    {
     "name": "stdout",
     "output_type": "stream",
     "text": [
      "_________________________________________________________________\n",
      "Layer (type)                 Output Shape              Param #   \n",
      "=================================================================\n",
      "input_1 (InputLayer)         (None, 15)                0         \n",
      "_________________________________________________________________\n",
      "embedding_1 (Embedding)      (None, 15, 100)           19900     \n",
      "_________________________________________________________________\n",
      "bidirectional_1 (Bidirection (None, 42)                15372     \n",
      "_________________________________________________________________\n",
      "dense_1 (Dense)              (None, 128)               5504      \n",
      "_________________________________________________________________\n",
      "repeat_vector_1 (RepeatVecto (None, 21, 128)           0         \n",
      "_________________________________________________________________\n",
      "bidirectional_2 (Bidirection (None, 21, 256)           197376    \n",
      "_________________________________________________________________\n",
      "time_distributed_1 (TimeDist (None, 21, 344)           88408     \n",
      "=================================================================\n",
      "Total params: 326,560\n",
      "Trainable params: 326,560\n",
      "Non-trainable params: 0\n",
      "_________________________________________________________________\n",
      "Final Model Loaded\n"
     ]
    }
   ],
   "source": [
    "def model_final(input_shape, output_sequence_length, english_vocab_size, french_vocab_size):\n",
    "    \"\"\"\n",
    "    Build and train a model that incorporates embedding, encoder-decoder, and bidirectional RNN on x and y\n",
    "    :param input_shape: Tuple of input shape\n",
    "    :param output_sequence_length: Length of output sequence\n",
    "    :param english_vocab_size: Number of unique English words in the dataset\n",
    "    :param french_vocab_size: Number of unique French words in the dataset\n",
    "    :return: Keras model built, but not trained\n",
    "    \"\"\"\n",
    "    # TODO: Implement\n",
    "    RNN_SIZE = 128\n",
    "    learning_rate = 0.001\n",
    "    EMBED_SIZE = 100\n",
    "    \n",
    "    '''\n",
    "    Referred to this section of the code for understanding Keras based Seq2Seq\n",
    "    https://blog.keras.io/building-autoencoders-in-keras.html\n",
    "    '''\n",
    "    \n",
    "    #Encoder\n",
    "    #Define an encoder\n",
    "    encoder_input = Input(shape=input_shape[1:])\n",
    "    #Attach an embedding\n",
    "    encoder_embed = Embedding(input_dim=english_vocab_size,output_dim=EMBED_SIZE)(encoder_input)\n",
    "    #Attach a Bidirectional GRU\n",
    "    encoder_rnn = Bidirectional(GRU(output_sequence_length,activation='relu',dropout=0.2))(encoder_embed)\n",
    "    #Evaluate encoder\n",
    "    encoder_output = Dense(RNN_SIZE, activation='relu')(encoder_rnn)\n",
    "    \n",
    "    #Decoder\n",
    "    #Attach encoder output to the decoder input and define a RepeatVector to generate a sequence\n",
    "    decoder_input = RepeatVector(output_sequence_length)(encoder_output)\n",
    "    #Attach a Bidrectional GRU\n",
    "    decoder_rnn = Bidirectional(GRU(RNN_SIZE, return_sequences=True, activation='relu', dropout=0.2))(decoder_input)\n",
    "    #Attach the final fully connected layer\n",
    "    decoder_output = TimeDistributed(Dense(french_vocab_size, activation='softmax'))(decoder_rnn)\n",
    "\n",
    "    #Model def based on encoder and decoder.\n",
    "    model = Model(inputs=encoder_input, outputs=decoder_output)\n",
    "    \n",
    "    model.compile(loss=sparse_categorical_crossentropy,\n",
    "                  optimizer=Adam(learning_rate),\n",
    "                  metrics=['accuracy'])\n",
    "    \n",
    "    model.summary()\n",
    "    \n",
    "    return model\n",
    "\n",
    "tests.test_model_final(model_final)\n",
    "\n",
    "\n",
    "print('Final Model Loaded')"
   ]
  },
  {
   "cell_type": "markdown",
   "metadata": {},
   "source": [
    "## Prediction (IMPLEMENTATION)"
   ]
  },
  {
   "cell_type": "code",
   "execution_count": 14,
   "metadata": {},
   "outputs": [
    {
     "name": "stdout",
     "output_type": "stream",
     "text": [
      "_________________________________________________________________\n",
      "Layer (type)                 Output Shape              Param #   \n",
      "=================================================================\n",
      "input_2 (InputLayer)         (None, 15)                0         \n",
      "_________________________________________________________________\n",
      "embedding_2 (Embedding)      (None, 15, 100)           19900     \n",
      "_________________________________________________________________\n",
      "bidirectional_3 (Bidirection (None, 42)                15372     \n",
      "_________________________________________________________________\n",
      "dense_3 (Dense)              (None, 128)               5504      \n",
      "_________________________________________________________________\n",
      "repeat_vector_2 (RepeatVecto (None, 21, 128)           0         \n",
      "_________________________________________________________________\n",
      "bidirectional_4 (Bidirection (None, 21, 256)           197376    \n",
      "_________________________________________________________________\n",
      "time_distributed_2 (TimeDist (None, 21, 344)           88408     \n",
      "=================================================================\n",
      "Total params: 326,560\n",
      "Trainable params: 326,560\n",
      "Non-trainable params: 0\n",
      "_________________________________________________________________\n",
      "Train on 110288 samples, validate on 27573 samples\n",
      "Epoch 1/50\n",
      "110288/110288 [==============================] - 54s 485us/step - loss: 2.0056 - acc: 0.5528 - val_loss: nan - val_acc: 0.6768\n",
      "Epoch 2/50\n",
      "110288/110288 [==============================] - 50s 457us/step - loss: 1.0713 - acc: 0.6919 - val_loss: nan - val_acc: 0.7193\n",
      "Epoch 3/50\n",
      "110288/110288 [==============================] - 51s 458us/step - loss: 0.9153 - acc: 0.7268 - val_loss: nan - val_acc: 0.7526\n",
      "Epoch 4/50\n",
      "110288/110288 [==============================] - 50s 456us/step - loss: 0.7959 - acc: 0.7562 - val_loss: nan - val_acc: 0.7851\n",
      "Epoch 5/50\n",
      "110288/110288 [==============================] - 50s 453us/step - loss: 0.7079 - acc: 0.7800 - val_loss: nan - val_acc: 0.8056\n",
      "Epoch 6/50\n",
      "110288/110288 [==============================] - 50s 457us/step - loss: 0.6374 - acc: 0.7988 - val_loss: nan - val_acc: 0.8195\n",
      "Epoch 7/50\n",
      "110288/110288 [==============================] - 51s 458us/step - loss: 0.5802 - acc: 0.8154 - val_loss: nan - val_acc: 0.8456\n",
      "Epoch 8/50\n",
      "110288/110288 [==============================] - 51s 459us/step - loss: 0.5281 - acc: 0.8309 - val_loss: nan - val_acc: 0.8583\n",
      "Epoch 9/50\n",
      "110288/110288 [==============================] - 51s 458us/step - loss: 0.4886 - acc: 0.8426 - val_loss: nan - val_acc: 0.8683\n",
      "Epoch 10/50\n",
      "110288/110288 [==============================] - 50s 457us/step - loss: 0.4568 - acc: 0.8520 - val_loss: nan - val_acc: 0.8810\n",
      "Epoch 11/50\n",
      "110288/110288 [==============================] - 50s 455us/step - loss: 0.4202 - acc: 0.8637 - val_loss: nan - val_acc: 0.8920\n",
      "Epoch 12/50\n",
      "110288/110288 [==============================] - 50s 457us/step - loss: 0.3972 - acc: 0.8709 - val_loss: nan - val_acc: 0.8995\n",
      "Epoch 13/50\n",
      "110288/110288 [==============================] - 50s 456us/step - loss: 0.3609 - acc: 0.8816 - val_loss: nan - val_acc: 0.9098\n",
      "Epoch 14/50\n",
      "110288/110288 [==============================] - 51s 458us/step - loss: 0.3363 - acc: 0.8894 - val_loss: nan - val_acc: 0.9152\n",
      "Epoch 15/50\n",
      "110288/110288 [==============================] - 50s 453us/step - loss: 0.3125 - acc: 0.8971 - val_loss: nan - val_acc: 0.9248\n",
      "Epoch 16/50\n",
      "110288/110288 [==============================] - 50s 457us/step - loss: 0.2953 - acc: 0.9027 - val_loss: nan - val_acc: 0.9285\n",
      "Epoch 17/50\n",
      "110288/110288 [==============================] - 50s 456us/step - loss: 0.2779 - acc: 0.9084 - val_loss: nan - val_acc: 0.9319\n",
      "Epoch 18/50\n",
      "110288/110288 [==============================] - 50s 454us/step - loss: 0.2614 - acc: 0.9138 - val_loss: nan - val_acc: 0.9375\n",
      "Epoch 19/50\n",
      "110288/110288 [==============================] - 50s 454us/step - loss: 0.2517 - acc: 0.9172 - val_loss: nan - val_acc: 0.9367\n",
      "Epoch 20/50\n",
      "110288/110288 [==============================] - 50s 456us/step - loss: 0.2411 - acc: 0.9205 - val_loss: nan - val_acc: 0.9384\n",
      "Epoch 21/50\n",
      "110288/110288 [==============================] - 51s 461us/step - loss: 0.2387 - acc: 0.9211 - val_loss: nan - val_acc: 0.9436\n",
      "Epoch 22/50\n",
      "110288/110288 [==============================] - 50s 457us/step - loss: 0.2235 - acc: 0.9261 - val_loss: nan - val_acc: 0.9441\n",
      "Epoch 23/50\n",
      "110288/110288 [==============================] - 51s 458us/step - loss: 0.2168 - acc: 0.9284 - val_loss: nan - val_acc: 0.9468\n",
      "Epoch 24/50\n",
      "110288/110288 [==============================] - 50s 453us/step - loss: 0.2216 - acc: 0.9274 - val_loss: nan - val_acc: 0.9488\n",
      "Epoch 25/50\n",
      "110288/110288 [==============================] - 50s 449us/step - loss: 0.2041 - acc: 0.9325 - val_loss: nan - val_acc: 0.9512\n",
      "Epoch 26/50\n",
      "110288/110288 [==============================] - 50s 449us/step - loss: 0.1997 - acc: 0.9337 - val_loss: nan - val_acc: 0.9531\n",
      "Epoch 27/50\n",
      "110288/110288 [==============================] - 50s 449us/step - loss: 0.1915 - acc: 0.9369 - val_loss: nan - val_acc: 0.9497\n",
      "Epoch 28/50\n",
      "110288/110288 [==============================] - 49s 448us/step - loss: 0.1877 - acc: 0.9381 - val_loss: nan - val_acc: 0.9543\n",
      "Epoch 29/50\n",
      "110288/110288 [==============================] - 51s 459us/step - loss: 0.1819 - acc: 0.9404 - val_loss: nan - val_acc: 0.9554\n",
      "Epoch 30/50\n",
      "110288/110288 [==============================] - 50s 454us/step - loss: 0.1795 - acc: 0.9408 - val_loss: nan - val_acc: 0.9569\n",
      "Epoch 31/50\n",
      "110288/110288 [==============================] - 50s 453us/step - loss: 0.1736 - acc: 0.9428 - val_loss: nan - val_acc: 0.9554\n",
      "Epoch 32/50\n",
      "110288/110288 [==============================] - 50s 452us/step - loss: 0.1710 - acc: 0.9439 - val_loss: nan - val_acc: 0.9593\n",
      "Epoch 33/50\n",
      "110288/110288 [==============================] - 50s 453us/step - loss: 0.1694 - acc: 0.9444 - val_loss: nan - val_acc: 0.9588\n",
      "Epoch 34/50\n",
      "110288/110288 [==============================] - 50s 454us/step - loss: 0.1644 - acc: 0.9461 - val_loss: nan - val_acc: 0.9595\n",
      "Epoch 35/50\n",
      "110288/110288 [==============================] - 50s 457us/step - loss: 0.1607 - acc: 0.9471 - val_loss: nan - val_acc: 0.9603\n",
      "Epoch 36/50\n",
      "110288/110288 [==============================] - 50s 454us/step - loss: 0.1594 - acc: 0.9477 - val_loss: nan - val_acc: 0.9619\n",
      "Epoch 37/50\n",
      "110288/110288 [==============================] - 50s 455us/step - loss: 0.1550 - acc: 0.9492 - val_loss: nan - val_acc: 0.9617\n",
      "Epoch 38/50\n",
      "110288/110288 [==============================] - 50s 456us/step - loss: 0.1540 - acc: 0.9496 - val_loss: nan - val_acc: 0.9636\n",
      "Epoch 39/50\n",
      "110288/110288 [==============================] - 50s 449us/step - loss: 0.1512 - acc: 0.9506 - val_loss: nan - val_acc: 0.9645\n",
      "Epoch 40/50\n",
      "110288/110288 [==============================] - 50s 449us/step - loss: 0.1463 - acc: 0.9520 - val_loss: nan - val_acc: 0.9629\n",
      "Epoch 41/50\n",
      "110288/110288 [==============================] - 50s 451us/step - loss: 0.1452 - acc: 0.9528 - val_loss: nan - val_acc: 0.9648\n",
      "Epoch 42/50\n",
      "110288/110288 [==============================] - 51s 458us/step - loss: 0.1419 - acc: 0.9539 - val_loss: nan - val_acc: 0.9658\n",
      "Epoch 43/50\n",
      "110288/110288 [==============================] - 50s 454us/step - loss: 0.1403 - acc: 0.9545 - val_loss: nan - val_acc: 0.9652\n",
      "Epoch 44/50\n",
      "110288/110288 [==============================] - 50s 457us/step - loss: 0.1380 - acc: 0.9551 - val_loss: nan - val_acc: 0.9649\n",
      "Epoch 45/50\n",
      "110288/110288 [==============================] - 51s 461us/step - loss: 0.1377 - acc: 0.9556 - val_loss: nan - val_acc: 0.9653\n",
      "Sample 1:\n",
      "il a vu un vieux camion jaune <PAD> <PAD> <PAD> <PAD> <PAD> <PAD> <PAD> <PAD> <PAD> <PAD> <PAD> <PAD> <PAD> <PAD>\n",
      "Il a vu un vieux camion jaune\n",
      "Sample 2:\n",
      "new jersey est parfois calme pendant l' automne et il est neigeux en avril <PAD> <PAD> <PAD> <PAD> <PAD> <PAD> <PAD>\n",
      "new jersey est parfois calme pendant l' automne et il est neigeux en avril <PAD> <PAD> <PAD> <PAD> <PAD> <PAD> <PAD>\n"
     ]
    }
   ],
   "source": [
    "from keras.callbacks import EarlyStopping\n",
    "\n",
    "def final_predictions(x, y, x_tk, y_tk):\n",
    "    \"\"\"\n",
    "    Gets predictions using the final model\n",
    "    :param x: Preprocessed English data\n",
    "    :param y: Preprocessed French data\n",
    "    :param x_tk: English tokenizer\n",
    "    :param y_tk: French tokenizer\n",
    "    \"\"\"\n",
    "    # TODO: Train neural network using model_final\n",
    "    model = model_final(x.shape, y.shape[1], len(x_tk.word_index), len(y_tk.word_index))\n",
    "    \n",
    "    # TODO: Train the neural network\n",
    "    callbacks = []\n",
    "    earlystopping = EarlyStopping(monitor='val_acc',min_delta=0,patience=3,verbose=0, mode='auto')\n",
    "    callbacks.append(earlystopping)\n",
    "    \n",
    "    history = model.fit(x, y, batch_size=256, epochs=50, validation_split=0.2, callbacks=callbacks)\n",
    "\n",
    "    \n",
    "    ## DON'T EDIT ANYTHING BELOW THIS LINE\n",
    "    y_id_to_word = {value: key for key, value in y_tk.word_index.items()}\n",
    "    y_id_to_word[0] = '<PAD>'\n",
    "\n",
    "    sentence = 'he saw a old yellow truck'\n",
    "    sentence = [x_tk.word_index[word] for word in sentence.split()]\n",
    "    sentence = pad_sequences([sentence], maxlen=x.shape[-1], padding='post')\n",
    "    sentences = np.array([sentence[0], x[0]])\n",
    "    predictions = model.predict(sentences, len(sentences))\n",
    "\n",
    "    print('Sample 1:')\n",
    "    print(' '.join([y_id_to_word[np.argmax(x)] for x in predictions[0]]))\n",
    "    print('Il a vu un vieux camion jaune')\n",
    "    print('Sample 2:')\n",
    "    print(' '.join([y_id_to_word[np.argmax(x)] for x in predictions[1]]))\n",
    "    print(' '.join([y_id_to_word[np.max(x)] for x in y[0]]))\n",
    "    \n",
    "    #Returning the history for plotting purposes. Did not edit anything above this.\n",
    "    return history\n",
    "\n",
    "\n",
    "hist = final_predictions(preproc_english_sentences, preproc_french_sentences, english_tokenizer, french_tokenizer)"
   ]
  },
  {
   "cell_type": "code",
   "execution_count": 15,
   "metadata": {},
   "outputs": [
    {
     "data": {
      "image/png": "[encoded data removed]",
      "text/plain": [
       "<matplotlib.figure.Figure at 0x7fa5c16983c8>"
      ]
     },
     "metadata": {},
     "output_type": "display_data"
    }
   ],
   "source": [
    "#Plot the training and validation accuracy of the final model \n",
    "%matplotlib inline\n",
    "\n",
    "import matplotlib.pyplot as plt\n",
    "\n",
    "legend_list = []\n",
    "plt.plot(hist.history['val_acc'])\n",
    "plt.plot(hist.history['acc'])\n",
    "legend_list.append('Validation accuracy')\n",
    "legend_list.append('Training accuracy')\n",
    "plt.legend(legend_list, loc='lower right')\n",
    "plt.title('Final model accuracy')\n",
    "plt.ylabel('loss')\n",
    "plt.xlabel('epoch')\n",
    "\n",
    "fig_size = [20,20]\n",
    "plt.rcParams[\"figure.figsize\"] = fig_size\n",
    "plt.show()\n",
    "plt.gcf().clear()\n",
    "plt.clf()\n",
    "plt.cla()\n",
    "plt.close()"
   ]
  },
  {
   "cell_type": "markdown",
   "metadata": {},
   "source": [
    "## Submission\n",
    "When you're ready to submit, complete the following steps:\n",
    "1. Review the [rubric](https://review.udacity.com/#!/rubrics/1004/view) to ensure your submission meets all requirements to pass\n",
    "2. Generate an HTML version of this notebook\n",
    "\n",
    "  - Run the next cell to attempt automatic generation (this is the recommended method in Workspaces)\n",
    "  - Navigate to **FILE -> Download as -> HTML (.html)**\n",
    "  - Manually generate a copy using `nbconvert` from your shell terminal\n",
    "```\n",
    "$ pip install nbconvert\n",
    "$ python -m nbconvert machine_translation.ipynb\n",
    "```\n",
    "  \n",
    "3. Submit the project\n",
    "\n",
    "  - If you are in a Workspace, simply click the \"Submit Project\" button (bottom towards the right)\n",
    "  \n",
    "  - Otherwise, add the following files into a zip archive and submit them \n",
    "  - `helper.py`\n",
    "  - `machine_translation.ipynb`\n",
    "  - `machine_translation.html`\n",
    "    - You can export the notebook by navigating to **File -> Download as -> HTML (.html)**."
   ]
  },
  {
   "cell_type": "markdown",
   "metadata": {},
   "source": [
    "### Generate the html\n",
    "\n",
    "**Save your notebook before running the next cell to generate the HTML output.** Then submit your project."
   ]
  },
  {
   "cell_type": "code",
   "execution_count": 1,
   "metadata": {
    "scrolled": true
   },
   "outputs": [
    {
     "data": {
      "text/plain": [
       "['[NbConvertApp] Converting notebook machine_translation.ipynb to html',\n",
       " '[NbConvertApp] Writing 400225 bytes to machine_translation.html']"
      ]
     },
     "execution_count": 1,
     "metadata": {},
     "output_type": "execute_result"
    }
   ],
   "source": [
    "# Save before you run this cell!\n",
    "!!jupyter nbconvert *.ipynb"
   ]
  },
  {
   "cell_type": "markdown",
   "metadata": {},
   "source": [
    "## Optional Enhancements\n",
    "\n",
    "This project focuses on learning various network architectures for machine translation, but we don't evaluate the models according to best practices by splitting the data into separate test & training sets -- so the model accuracy is overstated. Use the [`sklearn.model_selection.train_test_split()`](http://scikit-learn.org/stable/modules/generated/sklearn.model_selection.train_test_split.html) function to create separate training & test datasets, then retrain each of the models using only the training set and evaluate the prediction accuracy using the hold out test set. Does the \"best\" model change?"
   ]
  }
 ],
 "metadata": {
  "kernelspec": {
   "display_name": "Python 3",
   "language": "python",
   "name": "python3"
  },
  "language_info": {
   "codemirror_mode": {
    "name": "ipython",
    "version": 3
   },
   "file_extension": ".py",
   "mimetype": "text/x-python",
   "name": "python",
   "nbconvert_exporter": "python",
   "pygments_lexer": "ipython3",
   "version": "3.6.3"
  }
 },
 "nbformat": 4,
 "nbformat_minor": 1
}
